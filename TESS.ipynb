{
  "cells": [
    {
      "cell_type": "markdown",
      "metadata": {
        "id": "ds5yXAU8dp8K"
      },
      "source": [
        "##Import"
      ]
    },
    {
      "cell_type": "code",
      "source": [
        "pip install pandas numpy tensorflow scikit-learn"
      ],
      "metadata": {
        "id": "PSl-IcLvj1cS"
      },
      "execution_count": null,
      "outputs": []
    },
    {
      "cell_type": "code",
      "execution_count": null,
      "metadata": {
        "id": "4VBoV_wPzSyB",
        "collapsed": true
      },
      "outputs": [],
      "source": [
        "pip install tensorflow_addons"
      ]
    },
    {
      "cell_type": "code",
      "execution_count": null,
      "metadata": {
        "id": "c0gy5lb-zUZy",
        "collapsed": true
      },
      "outputs": [],
      "source": [
        "pip install -U imbalanced-learn"
      ]
    },
    {
      "cell_type": "code",
      "execution_count": null,
      "metadata": {
        "id": "mYEHyhe7zXIj"
      },
      "outputs": [],
      "source": [
        "pip install lightkurve"
      ]
    },
    {
      "cell_type": "code",
      "execution_count": null,
      "metadata": {
        "id": "1nN0zkAYdpfC"
      },
      "outputs": [],
      "source": [
        "%matplotlib notebook\n",
        "%matplotlib inline\n",
        "import matplotlib.pyplot as plt\n",
        "import lightkurve as lk\n",
        "import pandas as pd\n",
        "import numpy as np\n",
        "import os\n",
        "import concurrent.futures\n",
        "import tensorflow as tf\n",
        "\n",
        "from tensorflow.keras.layers import Input, Conv1D, MaxPooling1D, Flatten, Dense, Dropout, concatenate, BatchNormalization, Activation, LeakyReLU, Multiply, Permute, Reshape, Lambda, RepeatVector\n",
        "from tensorflow.keras.models import Model, load_model\n",
        "from tensorflow.keras.utils import to_categorical\n",
        "from tensorflow.keras.callbacks import EarlyStopping, ModelCheckpoint, LearningRateScheduler\n",
        "from tensorflow.keras.regularizers import l2\n",
        "from tensorflow.keras import backend as K\n",
        "from sklearn.model_selection import train_test_split, KFold\n",
        "from sklearn.metrics import accuracy_score, precision_score, recall_score, classification_report, make_scorer, roc_auc_score, precision_recall_curve\n",
        "from sklearn.preprocessing import LabelEncoder, label_binarize\n",
        "from sklearn.utils.class_weight import compute_class_weight\n",
        "from imblearn.over_sampling import ADASYN, BorderlineSMOTE, SMOTE\n",
        "from sklearn.preprocessing import RobustScaler\n",
        "from collections import defaultdict"
      ]
    },
    {
      "cell_type": "markdown",
      "metadata": {
        "id": "KyzuUs7gdtnS"
      },
      "source": [
        "## Adatok"
      ]
    },
    {
      "cell_type": "markdown",
      "source": [
        "#### Liang Yu és munkatársai által közzétett adatok tensorflow record formátumúak, így először egy parszer segítségével átkonvertálom őket pandas dataframmé."
      ],
      "metadata": {
        "id": "VE18Yj-FKqRQ"
      }
    },
    {
      "cell_type": "code",
      "source": [
        "def parse_tfrecord(example):\n",
        "    features = {\n",
        "        'tic_id': tf.io.FixedLenFeature([], tf.int64),\n",
        "        'row_id': tf.io.FixedLenFeature([], tf.int64),\n",
        "        'Epoc': tf.io.FixedLenFeature([], tf.float32),\n",
        "        'Sectors': tf.io.FixedLenFeature([], tf.int64),\n",
        "        'local_view': tf.io.FixedLenFeature([61], tf.float32),\n",
        "        'secondary_view': tf.io.FixedLenFeature([61], tf.float32),\n",
        "        'Transit_Depth': tf.io.FixedLenFeature([], tf.float32),\n",
        "        'global_view': tf.io.FixedLenFeature([201], tf.float32),\n",
        "        'Duration': tf.io.FixedLenFeature([], tf.float32),\n",
        "        'ccd': tf.io.FixedLenFeature([], tf.int64),\n",
        "        'Period': tf.io.FixedLenFeature([], tf.float32),\n",
        "        'depth_change': tf.io.FixedLenFeature([], tf.float32),\n",
        "        'camera': tf.io.FixedLenFeature([], tf.int64),\n",
        "        'Disposition': tf.io.FixedLenFeature([], tf.string),\n",
        "    }\n",
        "\n",
        "    return tf.io.parse_single_example(example, features)\n",
        "\n",
        "def read_dataset(file_pattern):\n",
        "    files = tf.io.gfile.glob(file_pattern)\n",
        "    dataset = tf.data.TFRecordDataset(files)\n",
        "    return dataset.map(parse_tfrecord)\n",
        "\n",
        "def dataset_to_dataframe(dataset):\n",
        "    records = []\n",
        "    for record in dataset:\n",
        "        parsed_record = {key: value.numpy() for key, value in record.items()}\n",
        "        records.append(parsed_record)\n",
        "    return pd.DataFrame(records)\n",
        "\n",
        "train_pattern = ['train-0000{}-of-00008'.format(i) for i in range(8)]\n",
        "test_pattern = 'test-00000-of-00001'\n",
        "val_pattern = 'val-00000-of-00001'\n",
        "\n",
        "train_dataset = read_dataset(train_pattern)\n",
        "test_dataset = read_dataset(test_pattern)\n",
        "val_dataset = read_dataset(val_pattern)\n",
        "\n",
        "df = dataset_to_dataframe(train_dataset)\n",
        "test_df = dataset_to_dataframe(test_dataset)\n",
        "val_df = dataset_to_dataframe(val_dataset)"
      ],
      "metadata": {
        "id": "oYF96IHdj9XH"
      },
      "execution_count": null,
      "outputs": []
    },
    {
      "cell_type": "code",
      "source": [
        "full_df = pd.concat([train_df, test_df, val_df])"
      ],
      "metadata": {
        "id": "YqBYBJJ2keMd"
      },
      "execution_count": null,
      "outputs": []
    },
    {
      "cell_type": "code",
      "source": [
        "full_df['Disposition'] = full_df['Disposition'].apply(lambda x: x.decode('utf-8') if isinstance(x, bytes) else x)"
      ],
      "metadata": {
        "id": "XkuemGD8k-Ub"
      },
      "execution_count": null,
      "outputs": []
    },
    {
      "cell_type": "code",
      "execution_count": null,
      "metadata": {
        "id": "_RnsZYfMeF_A"
      },
      "outputs": [],
      "source": [
        "c = 0\n",
        "train_df = pd.DataFrame(columns=['tic_id', 'global_view', 'local_view', 'secondary_view', 'depth_change', 'Disposition'])\n",
        "\n",
        "for row in df['global_view']:\n",
        "    disposition = df['Disposition'][c].numpy().decode('utf-8')\n",
        "\n",
        "    data_to_append = pd.DataFrame({\n",
        "        'tic_id': [int(df['tic_id'][c].numpy())],\n",
        "        'global_view': [row.numpy().tolist()],\n",
        "        'local_view': [df['local_view'][c].numpy().tolist()],\n",
        "        'secondary_view': [df['secondary_view'][c].numpy().tolist()],\n",
        "        'depth_change': [float(df['depth_change'][c].numpy())],\n",
        "        'Disposition': [disposition]\n",
        "    })\n",
        "\n",
        "    train_df = pd.concat([train_df, data_to_append], ignore_index=True)\n",
        "    c += 1"
      ]
    },
    {
      "cell_type": "markdown",
      "source": [
        "## A transit depth difference adat kiszámítása"
      ],
      "metadata": {
        "id": "K6-btFjlLPDG"
      }
    },
    {
      "cell_type": "markdown",
      "source": [
        "#### Először az outlier értékeket szűröm ki a dolgozatomban említett módon."
      ],
      "metadata": {
        "id": "uvusOYlbLWbs"
      }
    },
    {
      "cell_type": "code",
      "source": [
        "def handle_outliers(df, column, lower_quantile=0.01, upper_quantile=0.99):\n",
        "    \"\"\" Cap and floor the outliers based on quantiles \"\"\"\n",
        "    lower_bound = df[column].quantile(lower_quantile)\n",
        "    upper_bound = df[column].quantile(upper_quantile)\n",
        "    df[column] = np.clip(df[column], lower_bound, upper_bound)\n",
        "    return df\n",
        "\n",
        "train_df = handle_outliers(train_df, 'depth_change')\n",
        "test_df = handle_outliers(test_df, 'depth_change')\n",
        "val_df = handle_outliers(val_df, 'depth_change')\n",
        "\n",
        "# Robust Scaler\n",
        "scaler = RobustScaler()\n",
        "train_df['transit_depth_difference'] = scaler.fit_transform(train_df[['depth_change']])\n",
        "test_df['transit_depth_difference'] = scaler.transform(test_df[['depth_change']])\n",
        "val_df['transit_depth_difference'] = scaler.transform(val_df[['depth_change']])\n",
        "\n",
        "print(\"A normalizált minta a Robust Saler alkalmazása után:\")\n",
        "print(train_df[['depth_change', 'transit_depth_difference']].head())"
      ],
      "metadata": {
        "id": "WcF94vazLOc5"
      },
      "execution_count": null,
      "outputs": []
    },
    {
      "cell_type": "code",
      "execution_count": null,
      "metadata": {
        "id": "t-UAYmkzYxd3"
      },
      "outputs": [],
      "source": [
        "import pandas as pd\n",
        "import numpy as np\n",
        "\n",
        "mean_depth_change = train_df['depth_change'].mean()\n",
        "std_depth_change = train_df['depth_change'].std()\n",
        "\n",
        "print(\"Mélységcsökkenés átlaga:\", mean_depth_change)\n",
        "print(\"Mélységcsökkenés szórása:\", std_depth_change)\n",
        "\n",
        "#normalizálom a mélységcsökkenést (depth_change) úgy, hogy kivonom a tanítóhalmaz átlagát, majd elosztom a tanítóhalmaz szórásával\n",
        "def normalize_depth_change(df, mean, std):\n",
        "    if std == 0:\n",
        "        print(\"A szórás értéke 0, így a kapott értékek egyenlőek lesznek.\")\n",
        "    else:\n",
        "        df['transit_depth_difference'] = (df['depth_change'] - mean) / std\n",
        "    return df\n",
        "\n",
        "# normalizálom a három adathalmazt a kapott statisztikai értékek alapján\n",
        "train_df = normalize_depth_change(train_df, mean_depth_change, std_depth_change)\n",
        "test_df = normalize_depth_change(test_df, mean_depth_change, std_depth_change)\n",
        "val_df = normalize_depth_change(val_df, mean_depth_change, std_depth_change)\n",
        "\n",
        "\n",
        "print(\"A mélységcsökkenés értékének terjedelme a tanítóhalmazban:\", train_df['depth_change'].min(), \" - \", train_df['depth_change'].max())\n",
        "print(\"A mélységcsökkenés eloszlása a tanítóhalmazban:\", train_df['depth_change'].var())\n",
        "\n"
      ]
    },
    {
      "cell_type": "markdown",
      "source": [
        "## Beállítom, hogy triage vagy vetting feladatra tanítom a modellt.\n",
        "\n",
        "\n",
        "\n",
        "\n"
      ],
      "metadata": {
        "id": "l9pXK2_hM1-5"
      }
    },
    {
      "cell_type": "code",
      "source": [
        "mode = 'vetting' # vetting / triage"
      ],
      "metadata": {
        "id": "L1TXJcRaNFNO"
      },
      "execution_count": null,
      "outputs": []
    },
    {
      "cell_type": "code",
      "execution_count": null,
      "metadata": {
        "id": "-qzU5IBSjIuZ"
      },
      "outputs": [],
      "source": [
        "if mode == 'vetting':\n",
        "  train_df.loc[train_df['Disposition'] == 'EB', 'Disposition'] = 'J'\n",
        "  test_df.loc[test_df['Disposition'] == 'EB', 'Disposition'] = 'J'\n",
        "  val_df.loc[val_df['Disposition'] == 'EB', 'Disposition'] = 'J'\n",
        "elif mode == 'triage':\n",
        "  train_df.loc[train_df['Disposition'] == 'EB', 'Disposition'] = 'TE'  # TE => \"transit event\", egy közös címke az exobolygójelöltek és a fedési kettőscsillag-rendszerek számára\n",
        "  test_df.loc[test_df['Disposition'] == 'EB', 'Disposition'] = 'TE'\n",
        "  val_df.loc[val_df['Disposition'] == 'EB', 'Disposition'] = 'TE'\n",
        "  train_df.loc[train_df['Disposition'] == 'PC', 'Disposition'] = 'TE'\n",
        "  test_df.loc[test_df['Disposition'] == 'PC', 'Disposition'] = 'TE'\n",
        "  val_df.loc[val_df['Disposition'] == 'PC', 'Disposition'] = 'TE'"
      ]
    },
    {
      "cell_type": "markdown",
      "source": [
        "## A szűrő eljárás a paraméterek és metaparaméterek gyorsabb beállításához."
      ],
      "metadata": {
        "id": "Vu0nANRSz-N-"
      }
    },
    {
      "cell_type": "code",
      "source": [
        "import pandas as pd\n",
        "import numpy as np\n",
        "\n",
        "# szűrő eljárás a lokális és másodlagos nézetekhez\n",
        "def filter(flux_array):\n",
        "\n",
        "    classifications = []\n",
        "\n",
        "    first_segment = flux_array[:20]\n",
        "    middle_segment = flux_array[20:41]\n",
        "    third_segment = flux_array[41:]\n",
        "\n",
        "    first_avg = np.mean(first_segment)\n",
        "    middle_avg = np.mean(middle_segment)\n",
        "    third_avg = np.mean(third_segment)\n",
        "\n",
        "    if first_avg < 0.18 and third_avg < 0.18 and -1 < middle_avg < -0.3:\n",
        "        classifications.append('PC')\n",
        "    else:\n",
        "        classifications.append('Not PC')\n",
        "\n",
        "    return np.array(classifications)\n",
        "\n",
        "# szűrő eljárás a globális nézetekhez\n",
        "def filter_global(flux_array):\n",
        "\n",
        "    classifications = []\n",
        "\n",
        "    first_segment = flux_array[:98]\n",
        "    middle_segment = flux_array[98:102]\n",
        "    third_segment = flux_array[102:]\n",
        "\n",
        "    first_avg = np.mean(first_segment)\n",
        "    middle_avg = np.mean(middle_segment)\n",
        "    third_avg = np.mean(third_segment)\n",
        "\n",
        "    if first_avg < 0.05 and third_avg < 0.05 and -1 < middle_avg < -0.2:\n",
        "        classifications.append('PC')\n",
        "    else:\n",
        "        classifications.append('Not PC')\n",
        "\n",
        "    return np.array(classifications)\n",
        "\n",
        "\n",
        "c = 0\n",
        "pc_count = 0\n",
        "eb_count = 0\n",
        "j_count = 0\n",
        "indices = []\n",
        "\n",
        "\n",
        "for i in val_df[\"local_view\"]:\n",
        "  smtgh = filter(i)\n",
        "  if smtgh == \"PC\":\n",
        "    smtgh = filter(val_df[\"secondary_view\"][c])\n",
        "    if smtgh != \"PC\":\n",
        "      smtgh = filter_global(val_df[\"global_view\"][c])\n",
        "      if smtgh == \"PC\":\n",
        "        indices.append(c)\n",
        "        if val_df[\"Disposition\"][c] == \"EB\":\n",
        "          eb_count += 1\n",
        "        if val_df[\"Disposition\"][c] == \"J\":\n",
        "          j_count += 1\n",
        "        if val_df[\"Disposition\"][c] == \"PC\":\n",
        "          pc_count += 1\n",
        "\n",
        "  c += 1\n",
        "\n",
        "print(f\"PC szám: {pc_count}\")\n",
        "print(f\"EB szám: {eb_count}\")\n",
        "print(f\"J szám: {j_count}\")"
      ],
      "metadata": {
        "id": "fdN9fc9bz8wj"
      },
      "execution_count": null,
      "outputs": []
    },
    {
      "cell_type": "markdown",
      "source": [
        "#Tanítás"
      ],
      "metadata": {
        "id": "SXyVIR6ONqdd"
      }
    },
    {
      "cell_type": "code",
      "source": [
        "# A kiegyensúlyozott batch generálás\n",
        "class BalancedBatchGenerator:\n",
        "    def __init__(self, X, y, batch_size=32, classes=None):\n",
        "        self.X = [X[i] for i in range(len(X))]\n",
        "        self.y = y\n",
        "        self.batch_size = batch_size\n",
        "        self.classes = np.unique(y.argmax(axis=1)) if classes is None else classes\n",
        "        self.class_indices = {cls: np.where(y.argmax(axis=1) == cls)[0] for cls in self.classes}\n",
        "\n",
        "    def generate(self):\n",
        "        while True:\n",
        "            batch_indices = []\n",
        "            per_class = self.batch_size // len(self.classes)\n",
        "\n",
        "            for cls in self.classes:\n",
        "                choices = np.random.choice(self.class_indices[cls], per_class, replace=True)\n",
        "                batch_indices.extend(choices)\n",
        "\n",
        "            if len(batch_indices) < self.batch_size:\n",
        "                remainder = self.batch_size - len(batch_indices)\n",
        "                additional_indices = np.random.choice(np.concatenate(list(self.class_indices.values())), remainder, replace=True)\n",
        "                batch_indices.extend(additional_indices)\n",
        "\n",
        "            np.random.shuffle(batch_indices)\n",
        "            yield [self.X[i][batch_indices] for i in range(len(self.X))], self.y[batch_indices]\n",
        "\n",
        "\n",
        "def tensor_to_value(tensor):\n",
        "    return tensor.numpy().decode('utf-8') if isinstance(tensor, tf.Tensor) else tensor\n",
        "\n",
        "for df in [train_df, test_df, val_df]:\n",
        "    df['Disposition'] = df['Disposition'].apply(tensor_to_value)\n",
        "\n",
        "# Enkódolom a címkéket (One-hot encoding)\n",
        "label_encoder = LabelEncoder()\n",
        "y_train = label_encoder.fit_transform(train_df['Disposition'])\n",
        "y_train_encoded = to_categorical(y_train)\n",
        "y_test_encoded = to_categorical(label_encoder.transform(test_df['Disposition']))\n",
        "y_val_encoded = to_categorical(label_encoder.transform(val_df['Disposition']))\n",
        "\n",
        "\n",
        "# Adataugmentációk:\n",
        "def warp_light_curve(light_curve, warp_factor=0.1):\n",
        "    length = len(light_curve)\n",
        "    warp_size = int(warp_factor * length)\n",
        "    start = np.random.randint(0, length - warp_size)\n",
        "    end = start + warp_size\n",
        "\n",
        "    # Kiválasztom az elnyújtani kívánt szegmenst\n",
        "    segment = light_curve[start:end]\n",
        "\n",
        "    # Meghatározom véletlenszerűen a megnyújtás mértékét\n",
        "    if np.random.rand() > 0.5:\n",
        "        # Kompresszió\n",
        "        new_size = np.random.randint(low=warp_size // 2, high=warp_size)\n",
        "    else:\n",
        "        # Nyújtás\n",
        "        new_size = np.random.randint(low=warp_size, high=min(length, warp_size * 2))\n",
        "        if start + new_size > length:\n",
        "            new_size = length - start  # Az új hossz nem haladhatja meg a fénygörbe eredeti hosszát\n",
        "\n",
        "    # Interpoláció\n",
        "    warped_segment = np.interp(\n",
        "        np.linspace(0, warp_size, num=new_size, endpoint=False),\n",
        "        np.arange(warp_size),\n",
        "        segment\n",
        "    )\n",
        "\n",
        "    # Új fénygörbe létrehozása\n",
        "    new_light_curve = np.concatenate([\n",
        "        light_curve[:start],\n",
        "        warped_segment,\n",
        "        light_curve[start + warp_size:]\n",
        "    ])\n",
        "\n",
        "    # Fénygörbe hosszának igazítása\n",
        "    if len(new_light_curve) > length:\n",
        "        new_light_curve = new_light_curve[:length]\n",
        "    elif len(new_light_curve) < length:\n",
        "        new_light_curve = np.pad(new_light_curve, (0, length - len(new_light_curve)), 'constant')\n",
        "\n",
        "    return new_light_curve\n",
        "\n",
        "\n",
        "# Készítettem két másik adataugmentációt is azonban ezekkel egyenlőre nem sikerült jobb eredményeket elérnem, így a kiértékelésnél nem használtam\n",
        "def jitter_light_curve(light_curve, noise_level=0.02):\n",
        "    # Gauss zajjal történő adatagmentáció\n",
        "    noise = np.random.normal(0, noise_level, size=len(light_curve))\n",
        "    return light_curve + noise\n",
        "\n",
        "def randomly_shift_points(series, num_points=61, max_shift=0.2):\n",
        "    # Véletlenszerűen választott adatpontok függőleges irányban történő eltolása. A mérésekkor fellépő zajt szeretném szimulálni.\n",
        "    modified_series = np.copy(series)\n",
        "\n",
        "    indices_to_shift = np.random.choice(len(series), size=num_points, replace=False)\n",
        "\n",
        "    shifts = np.random.uniform(-max_shift, max_shift, size=num_points)\n",
        "\n",
        "    for idx, shift in zip(indices_to_shift, shifts):\n",
        "        modified_series[idx] += shift\n",
        "\n",
        "    return modified_series\n",
        "\n",
        "\n",
        "def augment_light_curves(df, features, warp_factor=0.08):\n",
        "    augmented_rows = []\n",
        "\n",
        "    for _, row in df.iterrows():\n",
        "        # Liang Yu és munkatársai által használt adataugmentáció, vízszintes tükrözés\n",
        "        flip_augmented_row = row.copy()\n",
        "        for feature in features:\n",
        "            if np.random.rand() < 0.5:\n",
        "                flip_augmented_row[feature] = np.flip(row[feature], axis=0).tolist()\n",
        "        augmented_rows.append(flip_augmented_row)\n",
        "\n",
        "        # A dolgozatomban emltített másik adataugmentációm, a szeletek nyújtása\n",
        "        warp_augmented_row = row.copy()\n",
        "        for feature in features:\n",
        "          if np.random.rand() < 0.5:\n",
        "            light_curve = np.array(row[feature])\n",
        "            warped_light_curve = warp_light_curve(light_curve, warp_factor=warp_factor)\n",
        "            warp_augmented_row[feature] = warped_light_curve.tolist()\n",
        "        augmented_rows.append(warp_augmented_row)\n",
        "\n",
        "\n",
        "    augmented_df = pd.DataFrame(augmented_rows)\n",
        "    return pd.concat([df, augmented_df], ignore_index=True)\n",
        "\n",
        "# A globális, lokális és másodlagos nézeteket is augmentálom\n",
        "features_to_augment = ['global_view', 'local_view', 'secondary_view']\n",
        "\n",
        "# Adataugmentáció alkalmazása a tanítóhalmazra\n",
        "augmented_train_df = augment_light_curves(train_df, features_to_augment)\n",
        "augmented_train_df = augmented_train_df.sample(frac=1).reset_index(drop=True)\n",
        "y_train_encoded = to_categorical(label_encoder.transform(augmented_train_df['Disposition']))\n",
        "\n",
        "\n",
        "# Input adatok előkészítése\n",
        "def prepare_data(df):\n",
        "    X_global = np.array(df['global_view'].tolist()).reshape((-1, 201, 1))\n",
        "    X_local = np.array(df['local_view'].tolist()).reshape((-1, 61, 1))\n",
        "    X_secondary = np.array(df['secondary_view'].tolist()).reshape((-1, 61, 1))\n",
        "    X_depth_change = np.array((df['transit_depth_difference'] * 4).tolist()).reshape((-1, 1)) # a dolgozatban említett módon a \"transit_depth_difference\" értéket néggyel szorzom\n",
        "    return X_global, X_local, X_secondary, X_depth_change\n",
        "\n",
        "X_global_train, X_local_train, X_secondary_train, X_depth_change_train = prepare_data(augmented_train_df)\n",
        "X_global_test, X_local_test, X_secondary_test, X_depth_change_test = prepare_data(test_df)\n",
        "X_global_val, X_local_val, X_secondary_val, X_depth_change_val = prepare_data(val_df)\n",
        "\n",
        "\n",
        "# Konvolúciós neurális hálózat\n",
        "\n",
        "# Az első CNN ágam, amelyet a lokális és másodlagos nézeteknél használok\n",
        "def create_cnn_branch(input_shape):\n",
        "    input_layer = Input(shape=input_shape)\n",
        "    # Első konvolúciós réteg\n",
        "    x = Conv1D(16, 5, padding='same', kernel_regularizer=l2(0.001))(input_layer)\n",
        "    x = BatchNormalization()(x)\n",
        "    x = Activation('relu')(x)\n",
        "    x = MaxPooling1D(2)(x)\n",
        "    x = Dropout(0.2)(x)\n",
        "    # Második konvolúciós réteg\n",
        "    x = Conv1D(32, 5, padding='same', kernel_regularizer=l2(0.001))(x)\n",
        "    x = BatchNormalization()(x)\n",
        "    x = Activation('relu')(x)\n",
        "    x = MaxPooling1D(2)(x)\n",
        "    x = Dropout(0.3)(x)\n",
        "    # Harmadik konvolúciós réteg\n",
        "    x = Conv1D(64, 5, padding='same', kernel_regularizer=l2(0.001))(x)\n",
        "    x = BatchNormalization()(x)\n",
        "    x = Activation('relu')(x)\n",
        "    x = MaxPooling1D(2)(x)\n",
        "    x = Dropout(0.4)(x)\n",
        "    x = Flatten()(x)\n",
        "    return input_layer, x\n",
        "\n",
        "# A másik, mélyebb ágam a globális nézethez\n",
        "def create_cnn_branch_deep(input_shape):\n",
        "    input_layer = Input(shape=input_shape)\n",
        "    # Első konvolúciós réteg\n",
        "    x = Conv1D(32, 5, padding='same', kernel_regularizer=l2(0.001))(input_layer)\n",
        "    x = BatchNormalization()(x)\n",
        "    x = Activation('relu')(x)\n",
        "    x = MaxPooling1D(2)(x)\n",
        "    x = Dropout(0.3)(x)\n",
        "    # Második konvolúciós réteg\n",
        "    x = Conv1D(128, 5, padding='same', kernel_regularizer=l2(0.001))(x)\n",
        "    x = BatchNormalization()(x)\n",
        "    x = Activation('relu')(x)\n",
        "    x = MaxPooling1D(2)(x)\n",
        "    x = Dropout(0.4)(x)\n",
        "    # Harmadik konvolúciós réteg\n",
        "    x = Conv1D(128, 5, padding='same', kernel_regularizer=l2(0.001))(x)\n",
        "    x = BatchNormalization()(x)\n",
        "    x = Activation('relu')(x)\n",
        "    x = MaxPooling1D(2)(x)\n",
        "    x = Dropout(0.4)(x)\n",
        "    # Negyedik konvolúciós réteg\n",
        "    x = Conv1D(256, 5, padding='same', kernel_regularizer=l2(0.001))(x)\n",
        "    x = BatchNormalization()(x)\n",
        "    x = Activation('relu')(x)\n",
        "    x = MaxPooling1D(2)(x)\n",
        "    x = Dropout(0.5)(x)\n",
        "    x = Flatten()(x)\n",
        "    return input_layer, x\n",
        "\n",
        "# A tanulási ráta szabályozására használt egyszerű scheduler\n",
        "def scheduler(epoch, lr):\n",
        "  if epoch < 2:\n",
        "      return lr\n",
        "  else:\n",
        "      return lr * tf.math.exp(-0.1)\n",
        "\n",
        "\n",
        "local_input, local_features = create_cnn_branch((61, 1))\n",
        "global_input, global_features = create_cnn_branch_deep((201, 1))\n",
        "secondary_input, secondary_features = create_cnn_branch((61, 1))\n",
        "\n",
        "depth_change_input = Input(shape=(1,))\n",
        "\n",
        "# Egyesítem a jellemzőket, itt kerül elő a \"transit_depth_difference\" is\n",
        "combined_features = concatenate([local_features, global_features, secondary_features, depth_change_input])\n",
        "\n",
        "# Teljesen összekötött rétegek\n",
        "x = Dense(256, activation='relu', kernel_regularizer=l2(0.001))(combined_features)\n",
        "x = Dropout(0.4)(x)\n",
        "x = Dense(128, activation='relu', kernel_regularizer=l2(0.001))(x)\n",
        "x = Dropout(0.5)(x)\n",
        "output = Dense(y_train_encoded.shape[1], activation='softmax')(x)\n",
        "\n",
        "\n",
        "# A modell\n",
        "model = Model(inputs=[local_input, global_input, secondary_input, depth_change_input], outputs=output)\n",
        "model.compile(optimizer='adam', loss='categorical_crossentropy', metrics=['accuracy'])\n",
        "\n",
        "\n",
        "# Korai megállás\n",
        "callbacks = [\n",
        "    EarlyStopping(monitor='val_loss', patience=10, verbose=1, mode='min', restore_best_weights=True),\n",
        "    ModelCheckpoint('best_model.h5', monitor='val_loss', save_best_only=True, mode='min', verbose=1),\n",
        "    LearningRateScheduler(scheduler, verbose=1)\n",
        "]\n",
        "\n",
        "# A kiegyensúlyozatlanság miatt bevezetett súlyok, azonban végül nem segítettek a tanítás során így nem használtam. Fenntartom a lehetőségét,\n",
        "# hogy további finomhangolások után segíthetnek a modell eredményességében, így egyenlőre megtartottam a kódrészletet.\n",
        "y_train_labels = np.argmax(y_train_encoded, axis=1)\n",
        "class_weights = compute_class_weight('balanced', classes=np.unique(y_train_labels), y=y_train_labels)\n",
        "class_weight_dict = {i: weight for i, weight in enumerate(class_weights)}\n",
        "\n",
        "# Kiegyensúlyozott batch generálás\n",
        "batch_size = 75\n",
        "generator = BalancedBatchGenerator([X_local_train, X_global_train, X_secondary_train, X_depth_change_train], y_train_encoded, batch_size=batch_size)\n",
        "validation_data = ([X_local_val, X_global_val, X_secondary_val, X_depth_change_val], y_val_encoded)\n",
        "\n",
        "# Modell tanítása\n",
        "history = model.fit(\n",
        "    generator.generate(),\n",
        "    steps_per_epoch=len(y_train_encoded) // batch_size,\n",
        "    validation_data=validation_data,\n",
        "    epochs=30,\n",
        "    callbacks=callbacks\n",
        ")\n",
        "\n",
        "predictions = model.predict([X_local_test, X_global_test, X_secondary_test, X_depth_change_test])\n",
        "predicted_classes = np.argmax(predictions, axis=1)\n",
        "true_classes = np.argmax(y_test_encoded, axis=1)\n",
        "\n",
        "# Modell kiértékelése\n",
        "results = model.evaluate([X_local_test, X_global_test, X_secondary_test, X_depth_change_test], y_test_encoded)\n",
        "print(f'Test Accuracy: {results[1]*100:.2f}%')\n",
        "\n",
        "report = classification_report(true_classes, predicted_classes, target_names=label_encoder.classes_)\n",
        "print(report)"
      ],
      "metadata": {
        "id": "9Dm-zZXM1zZ8"
      },
      "execution_count": null,
      "outputs": []
    },
    {
      "cell_type": "markdown",
      "source": [
        "## Precision-Recall görbe"
      ],
      "metadata": {
        "id": "KratLpoxN_Zb"
      }
    },
    {
      "cell_type": "markdown",
      "source": [
        "### Egy modell kiértékeléséhez"
      ],
      "metadata": {
        "id": "g-ngjjWMOBru"
      }
    },
    {
      "cell_type": "code",
      "source": [
        "y_test = np.argmax(y_test_encoded, axis=1)\n",
        "class_of_interest = 1  # itt állíthatjuk be, hogy melyik osztályra szeretnénk kirajzolni a precision-recall görbét (jelen esetben a 0 a J osztályt, az 1 pedig a PC osztályt reprezentálja)\n",
        "y_test_binary = (y_test == class_of_interest).astype(int)\n",
        "\n",
        "# Valószínűségek összegyűjtése.\n",
        "probabilities = model.predict([X_local_test, X_global_test, X_secondary_test, X_depth_change_test])\n",
        "class_probabilities = probabilities[:, class_of_interest]\n",
        "\n",
        "precision, recall, thresholds = precision_recall_curve(y_test_binary, class_probabilities)\n",
        "\n",
        "# Görbe kirajzolása.\n",
        "plt.figure(figsize=(7, 6))\n",
        "plt.title('Precision-Recall görbe - PC osztály'.format(label_encoder.classes_[class_of_interest]))\n",
        "plt.xlabel('Recall')\n",
        "plt.ylabel('Precision')\n",
        "plt.legend()\n",
        "plt.grid(True)\n",
        "plt.show()"
      ],
      "metadata": {
        "id": "GOakdy-_z3P4"
      },
      "execution_count": null,
      "outputs": []
    },
    {
      "cell_type": "markdown",
      "source": [
        "### Több modell átlagolt kiértékeléséhez"
      ],
      "metadata": {
        "id": "p3BTj81_OE7C"
      }
    },
    {
      "cell_type": "code",
      "source": [
        "def predict_with_models(model_files, X_inputs):\n",
        "    predictions = []\n",
        "    for model_file in model_files:\n",
        "        model = load_model(model_file)\n",
        "        predictions.append(model.predict(X_inputs))\n",
        "\n",
        "    # Átlagoljuk a predikciókat.\n",
        "    predictions = np.array(predictions)\n",
        "    mean_predictions = np.mean(predictions, axis=0)\n",
        "    return mean_predictions\n",
        "\n",
        "def plot_precision_recall_curve(y_test_encoded, mean_predictions, class_of_interest, class_labels):\n",
        "    y_test = np.argmax(y_test_encoded, axis=1)\n",
        "    y_test_binary = (y_test == class_of_interest).astype(int)\n",
        "\n",
        "    class_probabilities = mean_predictions[:, class_of_interest]\n",
        "\n",
        "    precision, recall, thresholds = precision_recall_curve(y_test_binary, class_probabilities)\n",
        "\n",
        "    # Precision-recall görbe kirajolása\n",
        "    plt.figure(figsize=(7, 6))\n",
        "    plt.title('Precision-Recall görbe - PC osztály'.format(class_labels[class_of_interest]))\n",
        "    plt.xlabel('Recall')\n",
        "    plt.ylabel('Precision')\n",
        "    plt.legend()\n",
        "    plt.grid(True)\n",
        "    plt.show()\n",
        "\n",
        "# A modellek fájlneveinek listája\n",
        "model_files = [f'model_ogval_{i}.h5' for i in range(1, 8)]\n",
        "\n",
        "mean_predictions = predict_with_models(model_files, [X_local_test, X_global_test, X_secondary_test, X_depth_change_test])\n",
        "plot_precision_recall_curve(y_test_encoded, mean_predictions, 1, label_encoder.classes_)"
      ],
      "metadata": {
        "id": "D2Gm1d6zOHIk"
      },
      "execution_count": null,
      "outputs": []
    },
    {
      "cell_type": "code",
      "source": [
        "# modell mentése\n",
        "model.save('model_1.h5')"
      ],
      "metadata": {
        "id": "jSYvmrjuKxQ_"
      },
      "execution_count": null,
      "outputs": []
    },
    {
      "cell_type": "code",
      "execution_count": null,
      "metadata": {
        "id": "T2POcRbfbSc0"
      },
      "outputs": [],
      "source": [
        "model_path = 'model_1.h5'\n",
        "# Korábbi modell betöltése\n",
        "model = load_model(model_path)"
      ]
    },
    {
      "cell_type": "markdown",
      "source": [
        "## Keresztvalidáció"
      ],
      "metadata": {
        "id": "wG5cKP7ZOyEJ"
      }
    },
    {
      "cell_type": "code",
      "source": [
        "class BalancedBatchGenerator:\n",
        "    def __init__(self, X, y, batch_size=32, classes=None):\n",
        "        self.X = [X[i] for i in range(len(X))]\n",
        "        self.y = y\n",
        "        self.batch_size = batch_size\n",
        "        self.classes = np.unique(y.argmax(axis=1)) if classes is None else classes\n",
        "        self.class_indices = {cls: np.where(y.argmax(axis=1) == cls)[0] for cls in self.classes}\n",
        "\n",
        "    def generate(self):\n",
        "        while True:\n",
        "            batch_indices = []\n",
        "            per_class = self.batch_size // len(self.classes)\n",
        "\n",
        "            for cls in self.classes:\n",
        "                choices = np.random.choice(self.class_indices[cls], per_class, replace=True)\n",
        "                batch_indices.extend(choices)\n",
        "\n",
        "            if len(batch_indices) < self.batch_size:\n",
        "                remainder = self.batch_size - len(batch_indices)\n",
        "                additional_indices = np.random.choice(np.concatenate(list(self.class_indices.values())), remainder, replace=True)\n",
        "                batch_indices.extend(additional_indices)\n",
        "\n",
        "            np.random.shuffle(batch_indices)\n",
        "            yield [self.X[i][batch_indices] for i in range(len(self.X))], self.y[batch_indices]\n",
        "\n",
        "# Tanító- és validációshalmaz egyesítése\n",
        "all_train_df = pd.concat([train_df, val_df], ignore_index=True)\n",
        "\n",
        "# Címkénk enkódolása (one-hot)\n",
        "label_encoder = LabelEncoder()\n",
        "all_labels = label_encoder.fit_transform(all_train_df['Disposition'])\n",
        "all_labels_encoded = to_categorical(all_labels)\n",
        "\n",
        "def create_model():\n",
        "    local_input, local_features = create_cnn_branch((61, 1))\n",
        "    global_input, global_features = create_cnn_branch_deep((201, 1))\n",
        "    secondary_input, secondary_features = create_cnn_branch((61, 1))\n",
        "    depth_change_input = Input(shape=(1,))\n",
        "\n",
        "    combined_features = concatenate([local_features, global_features, secondary_features, depth_change_input])\n",
        "\n",
        "    x = Dense(256, activation='relu', kernel_regularizer=l2(0.001))(combined_features)\n",
        "    x = Dropout(0.4)(x)\n",
        "    x = Dense(128, activation='relu', kernel_regularizer=l2(0.001))(x)\n",
        "    x = Dropout(0.5)(x)\n",
        "    output = Dense(Y_all.shape[1], activation='softmax')(x)\n",
        "\n",
        "    model = Model(inputs=[local_input, global_input, secondary_input, depth_change_input], outputs=output)\n",
        "    model.compile(optimizer='adam', loss='categorical_crossentropy', metrics=['accuracy'])\n",
        "\n",
        "    return model\n",
        "\n",
        "def augment_light_curves(df, features, warp_factor=0.08):\n",
        "    augmented_rows = []\n",
        "    for _, row in df.iterrows():\n",
        "        flip_augmented_row = row.copy()\n",
        "        for feature in features:\n",
        "            if np.random.rand() < 0.5:\n",
        "                flip_augmented_row[feature] = np.flip(row[feature], axis=0).tolist()\n",
        "        augmented_rows.append(flip_augmented_row)\n",
        "\n",
        "        warp_augmented_row = row.copy()\n",
        "        for feature in features:\n",
        "          if np.random.rand() < 0.5:\n",
        "            light_curve = np.array(row[feature])\n",
        "            warped_light_curve = warp_light_curve(light_curve, warp_factor=warp_factor)\n",
        "            warp_augmented_row[feature] = warped_light_curve.tolist()\n",
        "        augmented_rows.append(warp_augmented_row)\n",
        "\n",
        "    augmented_df = pd.DataFrame(augmented_rows)\n",
        "    return pd.concat([df, augmented_df], ignore_index=True)\n",
        "\n",
        "\n",
        "def prepare_data(df):\n",
        "    X_global = np.array(df['global_view'].tolist()).reshape((-1, 201, 1))\n",
        "    X_local = np.array(df['local_view'].tolist()).reshape((-1, 61, 1))\n",
        "    X_secondary = np.array(df['secondary_view'].tolist()).reshape((-1, 61, 1))\n",
        "    X_depth_change = np.array((df['transit_depth_difference'] * 4).tolist()).reshape((-1, 1))\n",
        "    return [X_local, X_global, X_secondary, X_depth_change]\n",
        "\n",
        "features_to_augment = ['global_view', 'local_view', 'secondary_view']\n",
        "augmented_train_df = augment_light_curves(all_train_df, features_to_augment)\n",
        "X_all = prepare_data(augmented_train_df)\n",
        "Y_all = to_categorical(label_encoder.transform(augmented_train_df['Disposition']))\n",
        "\n",
        "X_test = prepare_data(test_df)\n",
        "Y_test = to_categorical(label_encoder.transform(test_df['Disposition']))\n",
        "\n",
        "kf = KFold(n_splits=5, shuffle=True, random_state=42)\n",
        "\n",
        "\n",
        "for fold_no, (train_index, val_index) in enumerate(kf.split(X_all[0])):\n",
        "    X_train, X_val = [x[train_index] for x in X_all], [x[val_index] for x in X_all]\n",
        "    y_train, y_val = Y_all[train_index], Y_all[val_index]\n",
        "\n",
        "    assert max(train_index) < len(Y_all), \"Train index out of bounds\"\n",
        "    assert max(val_index) < len(Y_all), \"Validation index out of bounds\"\n",
        "\n",
        "    callbacks = [\n",
        "    EarlyStopping(monitor='val_loss', patience=10, verbose=1, mode='min', restore_best_weights=True),\n",
        "    ModelCheckpoint('best_model.h5', monitor='val_loss', save_best_only=True, mode='min', verbose=1),\n",
        "    LearningRateScheduler(scheduler, verbose=1)\n",
        "    ]\n",
        "\n",
        "    model = create_model()\n",
        "    print(f'Training fold {fold_no + 1}...')\n",
        "    batch_size = 75\n",
        "    generator = BalancedBatchGenerator([X_local_train, X_global_train, X_secondary_train, X_depth_change_train], y_train_encoded, batch_size=batch_size)\n",
        "    validation_data = ([X_local_val, X_global_val, X_secondary_val, X_depth_change_val], y_val_encoded)\n",
        "\n",
        "    history = model.fit(\n",
        "        generator.generate(),\n",
        "        steps_per_epoch=len(y_train_encoded) // batch_size,\n",
        "        validation_data=validation_data,\n",
        "        epochs=30,\n",
        "        callbacks=callbacks\n",
        "    )\n",
        "\n",
        "    # Mentsük el a modellt\n",
        "    model.save(f'model_fold_{fold_no+1}.h5')\n",
        "\n",
        "\n",
        "results = model.evaluate(X_test, Y_test)\n",
        "print(f'Test Accuracy: {results[1]*100:.2f}%')\n",
        "\n",
        "predictions = model.predict(X_test)\n",
        "predicted_classes = np.argmax(predictions, axis=1)\n",
        "true_classes = np.argmax(Y_test, axis=1)\n",
        "report = classification_report(true_classes, predicted_classes, target_names=label_encoder.classes_)\n",
        "print(report)\n"
      ],
      "metadata": {
        "id": "8eGKXoG_O3d3"
      },
      "execution_count": null,
      "outputs": []
    },
    {
      "cell_type": "markdown",
      "source": [
        "## A dolgozat 8.1.-es pontjában említett tanítóhalmaz és teszthalmaz közötti átfedés."
      ],
      "metadata": {
        "id": "Q_T1KlF5znhX"
      }
    },
    {
      "cell_type": "code",
      "source": [
        "train_df['local_view_tuple'] = train_df['local_view'].apply(tuple)\n",
        "test_df['local_view_tuple'] = test_df['local_view'].apply(tuple)\n",
        "\n",
        "train_views_set = set(train_df['local_view_tuple'])\n",
        "\n",
        "count = test_df['local_view_tuple'].apply(lambda x: x in train_views_set).sum()\n",
        "\n",
        "print(f\"Átfedések száma: {count}\")"
      ],
      "metadata": {
        "id": "xP-pWhBFzvGd"
      },
      "execution_count": null,
      "outputs": []
    },
    {
      "cell_type": "markdown",
      "source": [
        "## GUI"
      ],
      "metadata": {
        "id": "6hnOh7f-lGQc"
      }
    },
    {
      "cell_type": "code",
      "source": [
        "import ipywidgets as widgets\n",
        "from IPython.display import display, clear_output\n",
        "import matplotlib.pyplot as plt\n",
        "\n",
        "\n",
        "# Convert byte literals to string in the Disposition column\n",
        "full_df['Disposition'] = full_df['Disposition'].apply(lambda x: x.decode('utf-8') if isinstance(x, bytes) else x)\n",
        "\n",
        "# Create widgets\n",
        "tic_id_input = widgets.Text(\n",
        "    value='',\n",
        "    description='TIC ID:',\n",
        "    disabled=False\n",
        ")\n",
        "\n",
        "view_dropdown = widgets.Dropdown(\n",
        "    options=['global_view', 'local_view', 'secondary_view'],\n",
        "    value='global_view',\n",
        "    description='View:',\n",
        "    disabled=False,\n",
        ")\n",
        "\n",
        "submit_button = widgets.Button(\n",
        "    description='Plot Data'\n",
        ")\n",
        "\n",
        "output = widgets.Output()\n",
        "\n",
        "# Define button click event handler\n",
        "def on_button_clicked(b):\n",
        "    with output:\n",
        "        clear_output(wait=True)\n",
        "        tic_id = tic_id_input.value.strip()  # Strip any whitespace\n",
        "\n",
        "        # Ensure the input matches the DataFrame's 'tic_id' type\n",
        "        if full_df['tic_id'].dtype == 'int64':\n",
        "            try:\n",
        "                tic_id = int(tic_id)  # Convert input to integer if necessary\n",
        "            except ValueError:\n",
        "                print(\"Invalid TIC ID format. Please input a valid number.\")\n",
        "                return\n",
        "        view = view_dropdown.value\n",
        "        # Filter data by tic_id\n",
        "        data = full_df[full_df['tic_id'] == tic_id]\n",
        "\n",
        "        if not data.empty:\n",
        "            data_view = data[view].iloc[0]  # Assume this extracts the correct data format for plotting\n",
        "\n",
        "            if isinstance(data_view, (list, np.ndarray)):  # Check if data is in list or array format\n",
        "                plt.figure(figsize=(10, 6))\n",
        "                plt.plot(data_view)  # Plot directly if already in correct format\n",
        "                plt.title(f\"{view.capitalize()} for TIC ID {tic_id} - Disposition: {data['Disposition'].iloc[0]}\")\n",
        "                plt.show()\n",
        "            else:\n",
        "                print(\"Data format not suitable for plotting. Please check data structure.\")\n",
        "        else:\n",
        "            print(\"No data found for this TIC ID\")\n",
        "\n",
        "\n",
        "\n",
        "submit_button.on_click(on_button_clicked)\n",
        "\n",
        "# Display widgets\n",
        "display(tic_id_input, view_dropdown, submit_button, output)\n"
      ],
      "metadata": {
        "colab": {
          "base_uri": "https://localhost:8080/",
          "height": 639,
          "referenced_widgets": [
            "0c8958a356d6411c9565e70480a59bc1",
            "9e4dc2c126b04f4bafea402d5e212cf5",
            "df3030df820e456a91c03de64b195b67",
            "e608de74d2034421af9ab43acd41aab8",
            "3d19cd8b486d48bd8cd8199ce80c74c1",
            "fa20ddb9602a49e8a59db8998a1ca2ae",
            "3aa3f4e78119489ea521442133b9770e",
            "87b79f4b672c46fd99f1c6512add4bb9",
            "2bb7717dd8854301bacdbcba851615be",
            "6d0e10f793024d9187146becda40d936",
            "803a18a376ed45d9a154975d2c4f1670"
          ]
        },
        "id": "KvJuXohelHMV",
        "outputId": "cb5ffe05-8120-4f08-cca1-5caae76b8ef5"
      },
      "execution_count": null,
      "outputs": [
        {
          "output_type": "display_data",
          "data": {
            "text/plain": [
              "Text(value='', description='TIC ID:')"
            ],
            "application/vnd.jupyter.widget-view+json": {
              "version_major": 2,
              "version_minor": 0,
              "model_id": "0c8958a356d6411c9565e70480a59bc1"
            }
          },
          "metadata": {}
        },
        {
          "output_type": "display_data",
          "data": {
            "text/plain": [
              "Dropdown(description='View:', options=('global_view', 'local_view', 'secondary_view'), value='global_view')"
            ],
            "application/vnd.jupyter.widget-view+json": {
              "version_major": 2,
              "version_minor": 0,
              "model_id": "e608de74d2034421af9ab43acd41aab8"
            }
          },
          "metadata": {}
        },
        {
          "output_type": "display_data",
          "data": {
            "text/plain": [
              "Button(description='Plot Data', style=ButtonStyle())"
            ],
            "application/vnd.jupyter.widget-view+json": {
              "version_major": 2,
              "version_minor": 0,
              "model_id": "3aa3f4e78119489ea521442133b9770e"
            }
          },
          "metadata": {}
        },
        {
          "output_type": "display_data",
          "data": {
            "text/plain": [
              "Output()"
            ],
            "application/vnd.jupyter.widget-view+json": {
              "version_major": 2,
              "version_minor": 0,
              "model_id": "6d0e10f793024d9187146becda40d936"
            }
          },
          "metadata": {}
        }
      ]
    }
  ],
  "metadata": {
    "colab": {
      "provenance": []
    },
    "kernelspec": {
      "display_name": "Python 3",
      "name": "python3"
    },
    "language_info": {
      "name": "python"
    },
    "widgets": {
      "application/vnd.jupyter.widget-state+json": {
        "0c8958a356d6411c9565e70480a59bc1": {
          "model_module": "@jupyter-widgets/controls",
          "model_name": "TextModel",
          "model_module_version": "1.5.0",
          "state": {
            "_dom_classes": [],
            "_model_module": "@jupyter-widgets/controls",
            "_model_module_version": "1.5.0",
            "_model_name": "TextModel",
            "_view_count": null,
            "_view_module": "@jupyter-widgets/controls",
            "_view_module_version": "1.5.0",
            "_view_name": "TextView",
            "continuous_update": true,
            "description": "TIC ID:",
            "description_tooltip": null,
            "disabled": false,
            "layout": "IPY_MODEL_9e4dc2c126b04f4bafea402d5e212cf5",
            "placeholder": "​",
            "style": "IPY_MODEL_df3030df820e456a91c03de64b195b67",
            "value": "244245477"
          }
        },
        "9e4dc2c126b04f4bafea402d5e212cf5": {
          "model_module": "@jupyter-widgets/base",
          "model_name": "LayoutModel",
          "model_module_version": "1.2.0",
          "state": {
            "_model_module": "@jupyter-widgets/base",
            "_model_module_version": "1.2.0",
            "_model_name": "LayoutModel",
            "_view_count": null,
            "_view_module": "@jupyter-widgets/base",
            "_view_module_version": "1.2.0",
            "_view_name": "LayoutView",
            "align_content": null,
            "align_items": null,
            "align_self": null,
            "border": null,
            "bottom": null,
            "display": null,
            "flex": null,
            "flex_flow": null,
            "grid_area": null,
            "grid_auto_columns": null,
            "grid_auto_flow": null,
            "grid_auto_rows": null,
            "grid_column": null,
            "grid_gap": null,
            "grid_row": null,
            "grid_template_areas": null,
            "grid_template_columns": null,
            "grid_template_rows": null,
            "height": null,
            "justify_content": null,
            "justify_items": null,
            "left": null,
            "margin": null,
            "max_height": null,
            "max_width": null,
            "min_height": null,
            "min_width": null,
            "object_fit": null,
            "object_position": null,
            "order": null,
            "overflow": null,
            "overflow_x": null,
            "overflow_y": null,
            "padding": null,
            "right": null,
            "top": null,
            "visibility": null,
            "width": null
          }
        },
        "df3030df820e456a91c03de64b195b67": {
          "model_module": "@jupyter-widgets/controls",
          "model_name": "DescriptionStyleModel",
          "model_module_version": "1.5.0",
          "state": {
            "_model_module": "@jupyter-widgets/controls",
            "_model_module_version": "1.5.0",
            "_model_name": "DescriptionStyleModel",
            "_view_count": null,
            "_view_module": "@jupyter-widgets/base",
            "_view_module_version": "1.2.0",
            "_view_name": "StyleView",
            "description_width": ""
          }
        },
        "e608de74d2034421af9ab43acd41aab8": {
          "model_module": "@jupyter-widgets/controls",
          "model_name": "DropdownModel",
          "model_module_version": "1.5.0",
          "state": {
            "_dom_classes": [],
            "_model_module": "@jupyter-widgets/controls",
            "_model_module_version": "1.5.0",
            "_model_name": "DropdownModel",
            "_options_labels": [
              "global_view",
              "local_view",
              "secondary_view"
            ],
            "_view_count": null,
            "_view_module": "@jupyter-widgets/controls",
            "_view_module_version": "1.5.0",
            "_view_name": "DropdownView",
            "description": "View:",
            "description_tooltip": null,
            "disabled": false,
            "index": 0,
            "layout": "IPY_MODEL_3d19cd8b486d48bd8cd8199ce80c74c1",
            "style": "IPY_MODEL_fa20ddb9602a49e8a59db8998a1ca2ae"
          }
        },
        "3d19cd8b486d48bd8cd8199ce80c74c1": {
          "model_module": "@jupyter-widgets/base",
          "model_name": "LayoutModel",
          "model_module_version": "1.2.0",
          "state": {
            "_model_module": "@jupyter-widgets/base",
            "_model_module_version": "1.2.0",
            "_model_name": "LayoutModel",
            "_view_count": null,
            "_view_module": "@jupyter-widgets/base",
            "_view_module_version": "1.2.0",
            "_view_name": "LayoutView",
            "align_content": null,
            "align_items": null,
            "align_self": null,
            "border": null,
            "bottom": null,
            "display": null,
            "flex": null,
            "flex_flow": null,
            "grid_area": null,
            "grid_auto_columns": null,
            "grid_auto_flow": null,
            "grid_auto_rows": null,
            "grid_column": null,
            "grid_gap": null,
            "grid_row": null,
            "grid_template_areas": null,
            "grid_template_columns": null,
            "grid_template_rows": null,
            "height": null,
            "justify_content": null,
            "justify_items": null,
            "left": null,
            "margin": null,
            "max_height": null,
            "max_width": null,
            "min_height": null,
            "min_width": null,
            "object_fit": null,
            "object_position": null,
            "order": null,
            "overflow": null,
            "overflow_x": null,
            "overflow_y": null,
            "padding": null,
            "right": null,
            "top": null,
            "visibility": null,
            "width": null
          }
        },
        "fa20ddb9602a49e8a59db8998a1ca2ae": {
          "model_module": "@jupyter-widgets/controls",
          "model_name": "DescriptionStyleModel",
          "model_module_version": "1.5.0",
          "state": {
            "_model_module": "@jupyter-widgets/controls",
            "_model_module_version": "1.5.0",
            "_model_name": "DescriptionStyleModel",
            "_view_count": null,
            "_view_module": "@jupyter-widgets/base",
            "_view_module_version": "1.2.0",
            "_view_name": "StyleView",
            "description_width": ""
          }
        },
        "3aa3f4e78119489ea521442133b9770e": {
          "model_module": "@jupyter-widgets/controls",
          "model_name": "ButtonModel",
          "model_module_version": "1.5.0",
          "state": {
            "_dom_classes": [],
            "_model_module": "@jupyter-widgets/controls",
            "_model_module_version": "1.5.0",
            "_model_name": "ButtonModel",
            "_view_count": null,
            "_view_module": "@jupyter-widgets/controls",
            "_view_module_version": "1.5.0",
            "_view_name": "ButtonView",
            "button_style": "",
            "description": "Plot Data",
            "disabled": false,
            "icon": "",
            "layout": "IPY_MODEL_87b79f4b672c46fd99f1c6512add4bb9",
            "style": "IPY_MODEL_2bb7717dd8854301bacdbcba851615be",
            "tooltip": ""
          }
        },
        "87b79f4b672c46fd99f1c6512add4bb9": {
          "model_module": "@jupyter-widgets/base",
          "model_name": "LayoutModel",
          "model_module_version": "1.2.0",
          "state": {
            "_model_module": "@jupyter-widgets/base",
            "_model_module_version": "1.2.0",
            "_model_name": "LayoutModel",
            "_view_count": null,
            "_view_module": "@jupyter-widgets/base",
            "_view_module_version": "1.2.0",
            "_view_name": "LayoutView",
            "align_content": null,
            "align_items": null,
            "align_self": null,
            "border": null,
            "bottom": null,
            "display": null,
            "flex": null,
            "flex_flow": null,
            "grid_area": null,
            "grid_auto_columns": null,
            "grid_auto_flow": null,
            "grid_auto_rows": null,
            "grid_column": null,
            "grid_gap": null,
            "grid_row": null,
            "grid_template_areas": null,
            "grid_template_columns": null,
            "grid_template_rows": null,
            "height": null,
            "justify_content": null,
            "justify_items": null,
            "left": null,
            "margin": null,
            "max_height": null,
            "max_width": null,
            "min_height": null,
            "min_width": null,
            "object_fit": null,
            "object_position": null,
            "order": null,
            "overflow": null,
            "overflow_x": null,
            "overflow_y": null,
            "padding": null,
            "right": null,
            "top": null,
            "visibility": null,
            "width": null
          }
        },
        "2bb7717dd8854301bacdbcba851615be": {
          "model_module": "@jupyter-widgets/controls",
          "model_name": "ButtonStyleModel",
          "model_module_version": "1.5.0",
          "state": {
            "_model_module": "@jupyter-widgets/controls",
            "_model_module_version": "1.5.0",
            "_model_name": "ButtonStyleModel",
            "_view_count": null,
            "_view_module": "@jupyter-widgets/base",
            "_view_module_version": "1.2.0",
            "_view_name": "StyleView",
            "button_color": null,
            "font_weight": ""
          }
        },
        "6d0e10f793024d9187146becda40d936": {
          "model_module": "@jupyter-widgets/output",
          "model_name": "OutputModel",
          "model_module_version": "1.0.0",
          "state": {
            "_dom_classes": [],
            "_model_module": "@jupyter-widgets/output",
            "_model_module_version": "1.0.0",
            "_model_name": "OutputModel",
            "_view_count": null,
            "_view_module": "@jupyter-widgets/output",
            "_view_module_version": "1.0.0",
            "_view_name": "OutputView",
            "layout": "IPY_MODEL_803a18a376ed45d9a154975d2c4f1670",
            "msg_id": "",
            "outputs": [
              {
                "output_type": "display_data",
                "data": {
                  "text/plain": "<Figure size 1000x600 with 1 Axes>",
                  "image/png": "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\n"
                },
                "metadata": {}
              }
            ]
          }
        },
        "803a18a376ed45d9a154975d2c4f1670": {
          "model_module": "@jupyter-widgets/base",
          "model_name": "LayoutModel",
          "model_module_version": "1.2.0",
          "state": {
            "_model_module": "@jupyter-widgets/base",
            "_model_module_version": "1.2.0",
            "_model_name": "LayoutModel",
            "_view_count": null,
            "_view_module": "@jupyter-widgets/base",
            "_view_module_version": "1.2.0",
            "_view_name": "LayoutView",
            "align_content": null,
            "align_items": null,
            "align_self": null,
            "border": null,
            "bottom": null,
            "display": null,
            "flex": null,
            "flex_flow": null,
            "grid_area": null,
            "grid_auto_columns": null,
            "grid_auto_flow": null,
            "grid_auto_rows": null,
            "grid_column": null,
            "grid_gap": null,
            "grid_row": null,
            "grid_template_areas": null,
            "grid_template_columns": null,
            "grid_template_rows": null,
            "height": null,
            "justify_content": null,
            "justify_items": null,
            "left": null,
            "margin": null,
            "max_height": null,
            "max_width": null,
            "min_height": null,
            "min_width": null,
            "object_fit": null,
            "object_position": null,
            "order": null,
            "overflow": null,
            "overflow_x": null,
            "overflow_y": null,
            "padding": null,
            "right": null,
            "top": null,
            "visibility": null,
            "width": null
          }
        }
      }
    }
  },
  "nbformat": 4,
  "nbformat_minor": 0
}